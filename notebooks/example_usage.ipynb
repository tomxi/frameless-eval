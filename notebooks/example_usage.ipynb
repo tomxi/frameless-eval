{
 "cells": [
  {
   "cell_type": "code",
   "execution_count": 6,
   "metadata": {},
   "outputs": [],
   "source": [
    "import mir_eval as me\n",
    "import numpy as np\n",
    "\n",
    "import frameless_eval as fle"
   ]
  },
  {
   "cell_type": "code",
   "execution_count": 7,
   "metadata": {},
   "outputs": [],
   "source": [
    "# Some data in mir_eval format intervals and labels\n",
    "ITVLS1 = np.array([[0, 2.5], [2.5, 6]])\n",
    "LABELS1 = [\"A\", \"B\"]\n",
    "\n",
    "ITVLS2 = np.array([[0, 1.2], [1.2, 2.5], [2.5, 3.5], [3.5, 6]])\n",
    "LABELS2 = [\"a\", \"b\", \"c\", \"b\"]\n",
    "\n",
    "ITVLS3 = np.array([[0, 1.2], [1.2, 4], [4, 6]])\n",
    "LABELS3 = [\"Mi\", \"Re\", \"Do\"]\n",
    "\n",
    "ITVLS4 = np.array([[0, 1.2], [1.2, 3], [3, 4], [4, 6]])\n",
    "LABELS4 = [\"T\", \"PD\", \"D\", \"T\"]\n",
    "\n",
    "ITVLS5 = np.array(\n",
    "    [[0, 1.2], [1.2, 2], [2, 3], [3, 4], [4, 4.7], [4.7, 5.3], [5.3, 6]]\n",
    ")\n",
    "LABELS5 = [\"I\", \"IV\", \"ii\", \"V\", \"I\", \"IV\", \"I\"]\n"
   ]
  },
  {
   "cell_type": "code",
   "execution_count": 8,
   "metadata": {},
   "outputs": [
    {
     "name": "stdout",
     "output_type": "stream",
     "text": [
      "mir_eval pairwise with frame_size=0.1:\n",
      " (np.float64(0.692429022082019), np.float64(0.49050279329608937), np.float64(0.5742315238718116)) \n",
      "mir_eval pairwise with frame_size=0.01:\n",
      " (np.float64(0.7065558605419997), np.float64(0.5053253796095445), np.float64(0.5892336585705162)) \n",
      "frameless_eval pairwise:\n",
      " (np.float64(0.7063253012048193), np.float64(0.5070270270270271), np.float64(0.5903083700440529))\n"
     ]
    }
   ],
   "source": [
    "print(\n",
    "    'mir_eval pairwise with frame_size=0.1:\\n', \n",
    "    me.segment.pairwise(ITVLS1, LABELS1, ITVLS3, LABELS3, frame_size=0.1),\n",
    "    '\\nmir_eval pairwise with frame_size=0.01:\\n', \n",
    "    me.segment.pairwise(ITVLS1, LABELS1, ITVLS3, LABELS3, frame_size=0.01),\n",
    "    '\\nframeless_eval pairwise:\\n', \n",
    "    fle.pairwise(ITVLS1, LABELS1, ITVLS3, LABELS3)\n",
    ")"
   ]
  },
  {
   "cell_type": "code",
   "execution_count": 9,
   "metadata": {},
   "outputs": [
    {
     "name": "stdout",
     "output_type": "stream",
     "text": [
      "mir_eval v-measure with frame_size=0.1:\n",
      " (np.float64(0.3419532131313523), np.float64(0.5255000162301902), np.float64(0.41430802945479916)) \n",
      "mir_eval v-measure with frame_size=0.01:\n",
      " (np.float64(0.342721229008654), np.float64(0.5273878523861621), np.float64(0.41545828402175994)) \n",
      "frameless_eval v-measure:\n",
      " (np.float64(0.3419532131313523), np.float64(0.5255000162301902), np.float64(0.41430802945479916))\n"
     ]
    }
   ],
   "source": [
    "print(\n",
    "    'mir_eval v-measure with frame_size=0.1:\\n', \n",
    "    me.segment.vmeasure(ITVLS1, LABELS1, ITVLS3, LABELS3, frame_size=0.1),\n",
    "    '\\nmir_eval v-measure with frame_size=0.01:\\n', \n",
    "    me.segment.vmeasure(ITVLS1, LABELS1, ITVLS3, LABELS3, frame_size=0.01),\n",
    "    '\\nframeless_eval v-measure:\\n', \n",
    "    fle.vmeasure(ITVLS1, LABELS1, ITVLS3, LABELS3)\n",
    ")"
   ]
  },
  {
   "cell_type": "code",
   "execution_count": 10,
   "metadata": {},
   "outputs": [
    {
     "name": "stdout",
     "output_type": "stream",
     "text": [
      "mir_eval l-measure with frame_size=0.1:\n",
      "\t (np.float64(0.3104996911815658), np.float64(0.3503696209228963), np.float64(0.3292319891493628)) \n",
      "mir_eval l-measure with frame_size=0.01:\n",
      "\t (np.float64(0.32479202282350805), np.float64(0.3623281857877016), np.float64(0.34253483717445593)) \n",
      "frameless_eval l-measure:\n",
      "\t (np.float64(0.3279915414923965), np.float64(0.36470588947042715), np.float64(0.3453757485789806))\n"
     ]
    }
   ],
   "source": [
    "ref_hier = [ITVLS1, ITVLS2], [LABELS1, LABELS2]\n",
    "est_hier = [ITVLS3, ITVLS4, ITVLS5], [LABELS3, LABELS4, LABELS5]\n",
    "\n",
    "print(\n",
    "    'mir_eval l-measure with frame_size=0.1:\\n\\t', \n",
    "    me.hierarchy.lmeasure(\n",
    "        *ref_hier, *est_hier, frame_size=0.1),\n",
    "    '\\nmir_eval l-measure with frame_size=0.01:\\n\\t', \n",
    "    me.hierarchy.lmeasure(*ref_hier, *est_hier, frame_size=0.01),\n",
    "    '\\nframeless_eval l-measure:\\n\\t', \n",
    "    fle.lmeasure(*ref_hier, *est_hier)\n",
    ")"
   ]
  }
 ],
 "metadata": {
  "kernelspec": {
   "display_name": "frameless-eval",
   "language": "python",
   "name": "python3"
  },
  "language_info": {
   "codemirror_mode": {
    "name": "ipython",
    "version": 3
   },
   "file_extension": ".py",
   "mimetype": "text/x-python",
   "name": "python",
   "nbconvert_exporter": "python",
   "pygments_lexer": "ipython3",
   "version": "3.11.13"
  }
 },
 "nbformat": 4,
 "nbformat_minor": 2
}
