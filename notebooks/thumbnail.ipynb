{
 "cells": [
  {
   "cell_type": "code",
   "execution_count": null,
   "id": "b212f375",
   "metadata": {},
   "outputs": [],
   "source": [
    "%load_ext autoreload\n",
    "%autoreload 2\n",
    "\n",
    "import bnl\n",
    "import frameless_eval as fle\n",
    "import numpy as np"
   ]
  },
  {
   "cell_type": "code",
   "execution_count": null,
   "id": "e05f10bb",
   "metadata": {},
   "outputs": [],
   "source": [
    "# create two hierarchies:\n",
    "seg1 = bnl.S.from_bs([0, 2.5, 6], [\"A\", \"B\"])\n",
    "seg2 = bnl.S.from_bs([0, 1.2, 2.5, 3.5, 6], [\"a\", \"b\", \"c\", \"b\"])\n",
    "seg3 = bnl.S.from_bs([0, 1.2, 4, 6], [\"Mi\", \"Re\", \"Do\"])\n",
    "seg4 = bnl.S.from_bs([0, 1.2, 3, 4, 6], [\"T\", \"PD\", \"D\", \"T\"])\n",
    "seg5 = bnl.S.from_bs([0, 1.2, 2, 3, 4, 4.7, 4.9, 6], [\"I\", \"IV\", \"ii\", \"V\", \"I\", \"IV\", \"I\"])\n",
    "\n",
    "\n",
    "est = bnl.MS([seg1, seg2], name=\"estimate\").prune_layers()\n",
    "ref = bnl.MS([seg3, seg4, seg5], name='reference').prune_layers()"
   ]
  },
  {
   "cell_type": "code",
   "execution_count": null,
   "id": "df20885b",
   "metadata": {},
   "outputs": [],
   "source": [
    "# Show two Hierarchies\n",
    "from plotly.subplots import make_subplots\n",
    "\n",
    "def plot_two_hierarchies(ref, est, subplot_titles=None):\n",
    "    fig_est = est.plot()\n",
    "    fig_ref = ref.plot()\n",
    "\n",
    "    fig = make_subplots(\n",
    "        rows=2, cols=1, shared_xaxes=True, row_heights=[3, 2],\n",
    "        vertical_spacing=0.2, subplot_titles=subplot_titles\n",
    "    )\n",
    "\n",
    "    for tr in fig_ref.data:\n",
    "        fig.add_trace(tr, row=1, col=1)\n",
    "    for tr in fig_est.data:\n",
    "        fig.add_trace(tr, row=2, col=1)\n",
    "\n",
    "\n",
    "    fig.update_layout(\n",
    "        height=250, width=600,showlegend=False, barmode=\"overlay\", \n",
    "        xaxis2_range=[0, 6], xaxis2_title=\"Time (sec)\", margin=dict(t=30, l=10, r=10, b=60),\n",
    "        yaxis1=dict(\n",
    "            categoryorder=\"array\",\n",
    "            categoryarray=[layer.name for layer in reversed(ref)],\n",
    "        ),\n",
    "        yaxis2=dict(\n",
    "            categoryorder=\"array\",\n",
    "            categoryarray=[layer.name for layer in reversed(est)],\n",
    "        ),\n",
    "    )\n",
    "    return fig\n",
    "\n"
   ]
  },
  {
   "cell_type": "code",
   "execution_count": null,
   "id": "a8d83e76",
   "metadata": {},
   "outputs": [],
   "source": [
    "def plot_two_segs(ref, est, subplot_titles=None):\n",
    "    fig_est = est.plot()\n",
    "    fig_ref = ref.plot()\n",
    "\n",
    "    fig = make_subplots(\n",
    "        rows=2, cols=1, shared_xaxes=True, vertical_spacing=0.1, subplot_titles=subplot_titles\n",
    "    )\n",
    "    \n",
    "    for tr in fig_ref.data:\n",
    "        fig.add_trace(tr, row=1, col=1)\n",
    "    for tr in fig_est.data:\n",
    "        fig.add_trace(tr, row=2, col=1)\n",
    "\n",
    "    fig.update_layout(\n",
    "        height=150, width=400, showlegend=False, barmode=\"overlay\",\n",
    "        xaxis2_range=[0, 6], margin=dict(t=30, l=10, r=10, b=10),\n",
    "    )\n",
    "    fig.update_yaxes(visible=False)\n",
    "\n",
    "    return fig\n"
   ]
  },
  {
   "cell_type": "code",
   "execution_count": null,
   "id": "3590d445",
   "metadata": {},
   "outputs": [],
   "source": [
    "ref = bnl.S.from_bs([0, 1.25, 3.05, 4.02, 6], [\"T\", \"PD\", \"D\", \"T\"], name=\"ref\")\n",
    "est = bnl.S.from_bs([0, 1.25, 2.55, 3.55, 6], [\"a\", \"b\", \"c\", \"b\"], name ='est')\n",
    "\n",
    "ms = bnl.MS([ref, est], name=\"Labeled Segmentations to Compare\")\n",
    "fig = ms.plot()\n",
    "fig.write_image(\"tn1.pdf\", width=450, height=180)"
   ]
  },
  {
   "cell_type": "code",
   "execution_count": null,
   "id": "3b0df347",
   "metadata": {},
   "outputs": [],
   "source": [
    "#frame based\n",
    "frame_center = np.arange(0.1, 6, 0.2)\n",
    "frame_itvls = np.array(list(zip(frame_center - 0.1, frame_center + 0.1)))\n",
    "\n",
    "frame_labels = fle.utils.labels_at_ts(ms.itvls, ms.labels, frame_center)\n",
    "ref_frame = bnl.S.from_itvls(frame_itvls, frame_labels[0], name=\"ref\")\n",
    "est_frame = bnl.S.from_itvls(frame_itvls, frame_labels[1], name=\"est\")\n",
    "frame_ms = bnl.MS([ref_frame, est_frame], name=\"Frames-based (0.2 sec) alignment\")\n",
    "fig = frame_ms.plot()\n",
    "fig.write_image(\"tn2.pdf\", width=450, height=180)\n"
   ]
  },
  {
   "cell_type": "code",
   "execution_count": null,
   "id": "45233417",
   "metadata": {},
   "outputs": [],
   "source": [
    "#event based\n",
    "event_itvls, event_labels_est, event_labels_ref = fle.utils.make_common_itvls(\n",
    "    [est.itvls], [est.labels], [ref.itvls], [ref.labels]\n",
    ")\n",
    "\n",
    "ref_event = bnl.S.from_itvls(event_itvls, event_labels_ref[0], name=\"ref\")\n",
    "est_event = bnl.S.from_itvls(event_itvls, event_labels_est[0], name=\"est\")\n",
    "event_ms = bnl.MS([ref_event, est_event], name=\"Event-based (exact) alignment\")\n",
    "fig = event_ms.plot()\n",
    "fig.write_image(\"tn3.pdf\", width=450, height=180)"
   ]
  },
  {
   "cell_type": "code",
   "execution_count": null,
   "id": "388c56b4",
   "metadata": {},
   "outputs": [],
   "source": [
    "fig = plot_two_hierarchies(ref, est, [\"Reference (original, boundaries unaligned)\", \"Estimate (original, boundaries unaligned)\"])\n",
    "fig.write_image(\"thumbnail_setup.pdf\", width=600, height=225)\n"
   ]
  },
  {
   "cell_type": "code",
   "execution_count": null,
   "id": "3168dbb7",
   "metadata": {},
   "outputs": [],
   "source": [
    "# Show framebased Chopping\n",
    "\n",
    "frame_center = np.arange(0.1, 6, 0.2)\n",
    "frame_itvls = np.array(list(zip(frame_center - 0.1, frame_center + 0.1)))\n",
    "\n",
    "frame_labels_est = fle.utils.labels_at_ts(est.itvls, est.labels, frame_center)\n",
    "frame_labels_ref = fle.utils.labels_at_ts(ref.itvls, ref.labels, frame_center)\n",
    "frame_est = bnl.MS.from_itvls([frame_itvls]*2, frame_labels_est)\n",
    "frame_ref = bnl.MS.from_itvls([frame_itvls]*3, frame_labels_ref)\n",
    "\n",
    "fig = plot_two_hierarchies(frame_ref, frame_est, [\"Reference (frame-based alignment)\", \"Estimate (frame-based alignment)\"])\n",
    "fig.write_image(\"thumbnail_frame.pdf\", width=600, height=250)\n"
   ]
  },
  {
   "cell_type": "code",
   "execution_count": null,
   "id": "642da8e7",
   "metadata": {},
   "outputs": [],
   "source": [
    "event_itvls, event_labels_est, event_labels_ref = fle.utils.make_common_itvls(\n",
    "    est.itvls, est.labels, ref.itvls, ref.labels\n",
    ")\n",
    "event_est = bnl.MS.from_itvls([event_itvls] * 2, event_labels_est)\n",
    "event_ref = bnl.MS.from_itvls([event_itvls] * 3, event_labels_ref)\n",
    "\n",
    "fig = plot_two_hierarchies(event_ref, event_est, [\"Reference (event-based alignment)\", \"Estimate (event-based alignment)\"])\n",
    "fig.write_image(\"thumbnail_event.pdf\", width=600, height=250)\n",
    "\n"
   ]
  }
 ],
 "metadata": {
  "kernelspec": {
   "display_name": "py311",
   "language": "python",
   "name": "python3"
  },
  "language_info": {
   "codemirror_mode": {
    "name": "ipython",
    "version": 3
   },
   "file_extension": ".py",
   "mimetype": "text/x-python",
   "name": "python",
   "nbconvert_exporter": "python",
   "pygments_lexer": "ipython3",
   "version": "3.11.13"
  }
 },
 "nbformat": 4,
 "nbformat_minor": 5
}
